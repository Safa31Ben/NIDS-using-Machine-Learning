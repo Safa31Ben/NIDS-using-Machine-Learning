{
 "cells": [
  {
   "cell_type": "code",
   "execution_count": 2,
   "metadata": {},
   "outputs": [],
   "source": [
    "import warnings\n",
    "import numpy as np\n",
    "import pandas as pd\n",
    "import seaborn as sns\n",
    "\n",
    "from scipy import stats\n",
    "from sklearn.model_selection import train_test_split \n",
    "\n",
    "warnings.filterwarnings(\"ignore\")"
   ]
  },
  {
   "cell_type": "code",
   "execution_count": 3,
   "metadata": {},
   "outputs": [],
   "source": [
    "data = pd.read_csv(\"/Users/Safa BENABDESSADOK/Desktop/M1 GL/SAD/SAD project/Dataset/CIC-IDS2017/MachineLearningCVE.csv\")"
   ]
  },
  {
   "cell_type": "code",
   "execution_count": 4,
   "metadata": {},
   "outputs": [],
   "source": [
    "data.columns = [x.strip() for x in data.columns]"
   ]
  },
  {
   "attachments": {},
   "cell_type": "markdown",
   "metadata": {},
   "source": [
    "### Remove duplicated , missing values , and unusefull feature"
   ]
  },
  {
   "cell_type": "code",
   "execution_count": 5,
   "metadata": {},
   "outputs": [
    {
     "data": {
      "text/plain": [
       "(2520798, 57)"
      ]
     },
     "execution_count": 5,
     "metadata": {},
     "output_type": "execute_result"
    }
   ],
   "source": [
    "# removing missing values\n",
    "data.dropna(inplace = True)\n",
    "\n",
    "# removing duplicated instances\n",
    "data.drop_duplicates(inplace = True)\n",
    "\n",
    "# remove duplicated feature\n",
    "data.drop(['Fwd Header Length.1'],axis=1, inplace = True)\n",
    "\n",
    "# remove non effective feature \n",
    "data.drop(['Bwd PSH Flags', 'Bwd URG Flags', 'Fwd Avg Bytes/Bulk', 'Fwd Avg Packets/Bulk', 'Fwd Avg Bulk Rate', 'Bwd Avg Bytes/Bulk', \n",
    "'Bwd Avg Packets/Bulk', 'Bwd Avg Bulk Rate'],axis=1, inplace = True)\n",
    "\n",
    "# remove highly correlated feature\n",
    "data.drop(['Bwd IAT Std', 'SYN Flag Count', 'Fwd Packet Length Max', 'Fwd Packet Length Std', \n",
    "'Subflow Bwd Packets', 'Subflow Fwd Packets', 'Total Backward Packets', 'Total Fwd Packets',\n",
    "'Total Length of Bwd Packets','act_data_pkt_fwd', 'RST Flag Count', 'Fwd URG Flags', 'Idle Max'], axis = 1, inplace = True)\n",
    "\n",
    "# remove infinity or a value too large for dtype('float64').\n",
    "data = data[np.isfinite(data[data.columns[0:-1]]).all(1)]\n",
    "\n",
    "# the new shape\n",
    "data.shape"
   ]
  },
  {
   "cell_type": "code",
   "execution_count": 6,
   "metadata": {},
   "outputs": [
    {
     "data": {
      "text/plain": [
       "BENIGN                        2095057\n",
       "DoS Hulk                       172846\n",
       "DDoS                           128014\n",
       "PortScan                        90694\n",
       "DoS GoldenEye                   10286\n",
       "FTP-Patator                      5931\n",
       "DoS slowloris                    5385\n",
       "DoS Slowhttptest                 5228\n",
       "SSH-Patator                      3219\n",
       "Bot                              1948\n",
       "Web Attack � Brute Force         1470\n",
       "Web Attack � XSS                  652\n",
       "Infiltration                       36\n",
       "Web Attack � Sql Injection         21\n",
       "Heartbleed                         11\n",
       "Name: Label, dtype: int64"
      ]
     },
     "execution_count": 6,
     "metadata": {},
     "output_type": "execute_result"
    }
   ],
   "source": [
    "data['Label'].value_counts()"
   ]
  },
  {
   "attachments": {},
   "cell_type": "markdown",
   "metadata": {},
   "source": [
    "### Standard scaling (z-Score Scaling)"
   ]
  },
  {
   "cell_type": "code",
   "execution_count": 7,
   "metadata": {},
   "outputs": [],
   "source": [
    "X = data[data.columns[0:-1]]\n",
    "cols = list(X.columns)\n",
    "for col in cols:\n",
    "    X[col] = stats.zscore(X[col])\n",
    "data[data.columns[0:-1]] = X"
   ]
  },
  {
   "attachments": {},
   "cell_type": "markdown",
   "metadata": {},
   "source": [
    "**Saving prepared data in a CSV file**"
   ]
  },
  {
   "cell_type": "code",
   "execution_count": 8,
   "metadata": {},
   "outputs": [],
   "source": [
    "data.to_csv(\"/Users/Safa BENABDESSADOK/Desktop/M1 GL/SAD/SAD project/Dataset/CIC-IDS2017/preparedData.csv\",index = False)"
   ]
  },
  {
   "attachments": {},
   "cell_type": "markdown",
   "metadata": {},
   "source": [
    "### Split dataset to training data and testing data"
   ]
  },
  {
   "cell_type": "code",
   "execution_count": 9,
   "metadata": {},
   "outputs": [],
   "source": [
    "class0 = data[data['Label'] == 'BENIGN']\n",
    "class0_X = class0[class0.columns[0:-1]]\n",
    "class0_Y = class0[class0.columns[-1]]\n",
    "class0_X_train, class0_X_test, class0_Y_train, class0_Y_test = train_test_split(class0_X, class0_Y, test_size = 0.2, random_state = 10)"
   ]
  },
  {
   "cell_type": "code",
   "execution_count": 10,
   "metadata": {},
   "outputs": [],
   "source": [
    "class1 = data[data['Label'] == 'Bot']\n",
    "class1_X = class1[class1.columns[0:-1]]\n",
    "class1_Y = class1[class1.columns[-1]]\n",
    "class1_X_train, class1_X_test, class1_Y_train, class1_Y_test = train_test_split(class1_X, class1_Y, test_size = 0.2, random_state = 10)"
   ]
  },
  {
   "cell_type": "code",
   "execution_count": 11,
   "metadata": {},
   "outputs": [],
   "source": [
    "class2 = data[data['Label'] == 'DDoS']\n",
    "class2_X = class2[class2.columns[0:-1]]\n",
    "class2_Y = class2[class2.columns[-1]]\n",
    "class2_X_train, class2_X_test, class2_Y_train, class2_Y_test = train_test_split(class2_X, class2_Y, test_size = 0.2, random_state = 10)"
   ]
  },
  {
   "cell_type": "code",
   "execution_count": 12,
   "metadata": {},
   "outputs": [],
   "source": [
    "class3 = data[data['Label'] == 'DoS GoldenEye']\n",
    "class3_X = class3[class3.columns[0:-1]]\n",
    "class3_Y = class3[class3.columns[-1]]\n",
    "class3_X_train, class3_X_test, class3_Y_train, class3_Y_test = train_test_split(class3_X, class3_Y, test_size = 0.2, random_state = 10)"
   ]
  },
  {
   "cell_type": "code",
   "execution_count": 13,
   "metadata": {},
   "outputs": [],
   "source": [
    "class4 = data[data['Label'] == 'DoS Hulk']\n",
    "class4_X = class4[class4.columns[0:-1]]\n",
    "class4_Y = class4[class4.columns[-1]]\n",
    "class4_X_train, class4_X_test, class4_Y_train, class4_Y_test = train_test_split(class4_X, class4_Y, test_size = 0.2, random_state = 10)"
   ]
  },
  {
   "cell_type": "code",
   "execution_count": 14,
   "metadata": {},
   "outputs": [],
   "source": [
    "class5 = data[data['Label'] == 'DoS slowloris']\n",
    "class5_X = class5[class5.columns[0:-1]]\n",
    "class5_Y = class5[class5.columns[-1]]\n",
    "class5_X_train, class5_X_test, class5_Y_train, class5_Y_test = train_test_split(class5_X, class5_Y, test_size = 0.2, random_state = 10)"
   ]
  },
  {
   "cell_type": "code",
   "execution_count": 15,
   "metadata": {},
   "outputs": [],
   "source": [
    "class6 = data[data['Label'] == 'DoS Slowhttptest']\n",
    "class6_X = class6[class6.columns[0:-1]]\n",
    "class6_Y = class6[class6.columns[-1]]\n",
    "class6_X_train, class6_X_test, class6_Y_train, class6_Y_test = train_test_split(class6_X, class6_Y, test_size = 0.2, random_state = 10)"
   ]
  },
  {
   "cell_type": "code",
   "execution_count": 16,
   "metadata": {},
   "outputs": [],
   "source": [
    "class7 = data[data['Label'] == 'FTP-Patator']\n",
    "class7_X = class7[class7.columns[0:-1]]\n",
    "class7_Y = class7[class7.columns[-1]]\n",
    "class7_X_train, class7_X_test, class7_Y_train, class7_Y_test = train_test_split(class7_X, class7_Y, test_size = 0.2, random_state = 10)"
   ]
  },
  {
   "cell_type": "code",
   "execution_count": 17,
   "metadata": {},
   "outputs": [],
   "source": [
    "class8 = data[data['Label'] == 'Heartbleed']\n",
    "class8_X = class8[class8.columns[0:-1]]\n",
    "class8_Y = class8[class8.columns[-1]]\n",
    "class8_X_train, class8_X_test, class8_Y_train, class8_Y_test = train_test_split(class8_X, class8_Y, test_size = 0.2, random_state = 10)"
   ]
  },
  {
   "cell_type": "code",
   "execution_count": 18,
   "metadata": {},
   "outputs": [],
   "source": [
    "class9 = data[data['Label'] == 'Infiltration']\n",
    "class9_X = class9[class9.columns[0:-1]]\n",
    "class9_Y = class9[class9.columns[-1]]\n",
    "class9_X_train, class9_X_test, class9_Y_train, class9_Y_test = train_test_split(class9_X, class9_Y, test_size = 0.2, random_state = 10)"
   ]
  },
  {
   "cell_type": "code",
   "execution_count": 19,
   "metadata": {},
   "outputs": [],
   "source": [
    "class10 = data[data['Label'] == 'PortScan']\n",
    "class10_X = class10[class10.columns[0:-1]]\n",
    "class10_Y = class10[class10.columns[-1]]\n",
    "class10_X_train, class10_X_test, class10_Y_train, class10_Y_test = train_test_split(class10_X, class10_Y, test_size = 0.2, random_state = 10)"
   ]
  },
  {
   "cell_type": "code",
   "execution_count": 20,
   "metadata": {},
   "outputs": [],
   "source": [
    "class11 = data[data['Label'] == 'SSH-Patator']\n",
    "class11_X = class11[class11.columns[0:-1]]\n",
    "class11_Y = class11[class11.columns[-1]]\n",
    "class11_X_train, class11_X_test, class11_Y_train, class11_Y_test = train_test_split(class11_X, class11_Y, test_size = 0.2, random_state = 10)"
   ]
  },
  {
   "cell_type": "code",
   "execution_count": 21,
   "metadata": {},
   "outputs": [],
   "source": [
    "class12 = data[data['Label'] == 'Web Attack � Brute Force']\n",
    "class12_X = class12[class12.columns[0:-1]]\n",
    "class12_Y = class12[class12.columns[-1]]\n",
    "class12_X_train, class12_X_test, class12_Y_train, class12_Y_test = train_test_split(class12_X, class12_Y, test_size = 0.2, random_state = 10)"
   ]
  },
  {
   "cell_type": "code",
   "execution_count": 22,
   "metadata": {},
   "outputs": [],
   "source": [
    "class13 = data[data['Label'] == 'Web Attack � Sql Injection']\n",
    "class13_X = class13[class13.columns[0:-1]]\n",
    "class13_Y = class13[class13.columns[-1]]\n",
    "class13_X_train, class13_X_test, class13_Y_train, class13_Y_test = train_test_split(class13_X, class13_Y, test_size = 0.2, random_state = 10)"
   ]
  },
  {
   "cell_type": "code",
   "execution_count": 23,
   "metadata": {},
   "outputs": [],
   "source": [
    "class14 = data[data['Label'] == 'Web Attack � XSS']\n",
    "class14_X = class14[class14.columns[0:-1]]\n",
    "class14_Y = class14[class14.columns[-1]]\n",
    "class14_X_train, class14_X_test, class14_Y_train, class14_Y_test = train_test_split(class14_X, class14_Y, test_size = 0.2, random_state = 10)"
   ]
  },
  {
   "cell_type": "code",
   "execution_count": 24,
   "metadata": {},
   "outputs": [],
   "source": [
    "# concatenate data\n",
    "# training data\n",
    "X_train =  pd.concat([class0_X_train, class1_X_train, class2_X_train, class3_X_train, class4_X_train, class5_X_train, class6_X_train, class7_X_train,\n",
    "            class8_X_train, class9_X_train, class10_X_train, class11_X_train, class12_X_train, class13_X_train, class14_X_train])\n",
    "Y_train =  pd.concat([class0_Y_train, class1_Y_train, class2_Y_train, class3_Y_train, class4_Y_train, class5_Y_train, class6_Y_train, class7_Y_train,\n",
    "            class8_Y_train, class9_Y_train, class10_Y_train, class11_Y_train, class12_Y_train, class13_Y_train, class14_Y_train])\n",
    "# testing data\n",
    "X_test =  pd.concat([class0_X_test, class1_X_test, class2_X_test, class3_X_test, class4_X_test, class5_X_test, class6_X_test, class7_X_test,\n",
    "            class8_X_test, class9_X_test, class10_X_test, class11_X_test, class12_X_test, class13_X_test, class14_X_test])\n",
    "Y_test =  pd.concat([class0_Y_test, class1_Y_test, class2_Y_test, class3_Y_test, class4_Y_test, class5_Y_test, class6_Y_test, class7_Y_test,\n",
    "            class8_Y_test, class9_Y_test, class10_Y_test, class11_Y_test, class12_Y_test, class13_Y_test, class14_Y_test])"
   ]
  },
  {
   "cell_type": "code",
   "execution_count": 25,
   "metadata": {},
   "outputs": [
    {
     "data": {
      "text/plain": [
       "BENIGN                        1676045\n",
       "DoS Hulk                       138276\n",
       "DDoS                           102411\n",
       "PortScan                        72555\n",
       "DoS GoldenEye                    8228\n",
       "FTP-Patator                      4744\n",
       "DoS slowloris                    4308\n",
       "DoS Slowhttptest                 4182\n",
       "SSH-Patator                      2575\n",
       "Bot                              1558\n",
       "Web Attack � Brute Force         1176\n",
       "Web Attack � XSS                  521\n",
       "Infiltration                       28\n",
       "Web Attack � Sql Injection         16\n",
       "Heartbleed                          8\n",
       "Name: Label, dtype: int64"
      ]
     },
     "execution_count": 25,
     "metadata": {},
     "output_type": "execute_result"
    }
   ],
   "source": [
    "Y_train.value_counts()"
   ]
  },
  {
   "cell_type": "code",
   "execution_count": 26,
   "metadata": {},
   "outputs": [
    {
     "data": {
      "text/plain": [
       "BENIGN                        419012\n",
       "DoS Hulk                       34570\n",
       "DDoS                           25603\n",
       "PortScan                       18139\n",
       "DoS GoldenEye                   2058\n",
       "FTP-Patator                     1187\n",
       "DoS slowloris                   1077\n",
       "DoS Slowhttptest                1046\n",
       "SSH-Patator                      644\n",
       "Bot                              390\n",
       "Web Attack � Brute Force         294\n",
       "Web Attack � XSS                 131\n",
       "Infiltration                       8\n",
       "Web Attack � Sql Injection         5\n",
       "Heartbleed                         3\n",
       "Name: Label, dtype: int64"
      ]
     },
     "execution_count": 26,
     "metadata": {},
     "output_type": "execute_result"
    }
   ],
   "source": [
    "Y_test.value_counts()"
   ]
  },
  {
   "cell_type": "code",
   "execution_count": 27,
   "metadata": {},
   "outputs": [],
   "source": [
    "# saving (training and testing data) in CSV files\n",
    "X_train.to_csv(\"/Users/Safa BENABDESSADOK/Desktop/M1 GL/SAD/SAD project/Dataset/CIC-IDS2017/X_train.csv\", index = False)\n",
    "Y_train.to_csv(\"/Users/Safa BENABDESSADOK/Desktop/M1 GL/SAD/SAD project/Dataset/CIC-IDS2017/Y_train.csv\", index = False)\n",
    "\n",
    "X_test.to_csv(\"/Users/Safa BENABDESSADOK/Desktop/M1 GL/SAD/SAD project/Dataset/CIC-IDS2017/X_test.csv\", index = False)\n",
    "Y_test.to_csv(\"/Users/Safa BENABDESSADOK/Desktop/M1 GL/SAD/SAD project/Dataset/CIC-IDS2017/Y_test.csv\", index = False)"
   ]
  }
 ],
 "metadata": {
  "kernelspec": {
   "display_name": "base",
   "language": "python",
   "name": "python3"
  },
  "language_info": {
   "codemirror_mode": {
    "name": "ipython",
    "version": 3
   },
   "file_extension": ".py",
   "mimetype": "text/x-python",
   "name": "python",
   "nbconvert_exporter": "python",
   "pygments_lexer": "ipython3",
   "version": "3.9.12 (main, Apr  4 2022, 05:22:27) [MSC v.1916 64 bit (AMD64)]"
  },
  "orig_nbformat": 4,
  "vscode": {
   "interpreter": {
    "hash": "a3394be68f6686ff919e9217acf1f3dfbb710015f7bd218178b014d900b478a9"
   }
  }
 },
 "nbformat": 4,
 "nbformat_minor": 2
}
